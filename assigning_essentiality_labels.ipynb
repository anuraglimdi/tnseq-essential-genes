{
 "cells": [
  {
   "cell_type": "markdown",
   "id": "f6f73fce",
   "metadata": {},
   "source": [
    "## Assigning essentiality labels using E. coli K-12 datasets\n",
    "\n",
    "Challenge: I generated transposon sequencing data for E. coli B REL606, which is less commonly used compared to E. coli K-12. Since there isn't a well-annotated ground truth of gene essentiality for the REL606 strain, I will use a dataset from E. coli K-12 as a benchmark. \n",
    "\n",
    "1. The E. coli K-12 Keio collection: in this experiment, the authors attempted to make gene deletions for every gene in the K-12 genome. They were unable to make deletions in ~300 genes, which are considered essential. \n",
    "2. The E. coli K-12 TraDIS collection: a transposon sequencing experiment where the authors did a manual examination of several edge cases and annotated essentiality based on both sequencing data and prior results in the literature.\n",
    "\n",
    "Challenge: there are several unannotated genes in the E. coli genome, and the two strains can differ in their gene content. To get around these issues, I will identify all the genes that are shared between the REL606 and K-12 genome and extract essentiality labels only for those."
   ]
  },
  {
   "cell_type": "code",
   "execution_count": 1,
   "id": "86f30a3f",
   "metadata": {},
   "outputs": [],
   "source": [
    "import numpy as np\n",
    "import pandas as pd\n",
    "from scipy import stats\n",
    "import matplotlib.pyplot as plt\n",
    "import seaborn as sns\n",
    "import os\n",
    "from pathlib import Path"
   ]
  },
  {
   "cell_type": "code",
   "execution_count": 2,
   "id": "861a9032",
   "metadata": {},
   "outputs": [
    {
     "name": "stdout",
     "output_type": "stream",
     "text": [
      "/Users/anuraglimdi/github/essentiality-predictor\n"
     ]
    }
   ],
   "source": [
    "#current working directory\n",
    "repo = os.getcwd()\n",
    "print(repo)"
   ]
  },
  {
   "cell_type": "code",
   "execution_count": 3,
   "id": "e831b7ae",
   "metadata": {},
   "outputs": [],
   "source": [
    "metadata_path = repo +'/Metadata/'"
   ]
  },
  {
   "cell_type": "markdown",
   "id": "bb5266ca",
   "metadata": {},
   "source": [
    "### Loading metadata\n",
    "\n",
    "Another confounding factor is that there are multiple names for the same gene in E. coli K-12, and the gene names used by the authors in Goodall et al and Baba et al may not be consistent with what names were assigned when annotating the E. coli REL606 reference genome using prokka.\n",
    "\n",
    "To get around this, I will use info from the ecocyc database which contains up to four synonyms for every gene."
   ]
  },
  {
   "cell_type": "code",
   "execution_count": 4,
   "id": "37e55515",
   "metadata": {},
   "outputs": [],
   "source": [
    "eco_syn = pd.read_csv(metadata_path+'ecoli_genes.col',on_bad_lines='skip',skiprows=28,sep='\\t')"
   ]
  },
  {
   "cell_type": "code",
   "execution_count": 5,
   "id": "2a700db1",
   "metadata": {},
   "outputs": [],
   "source": [
    "#opening the pandas file with all the metadata\n",
    "all_data = pd.read_csv(metadata_path+\"all_metadata_REL606.txt\", sep=\"\\t\")\n",
    "names = all_data.iloc[:,0]\n",
    "gene_start = all_data.iloc[:,3]\n",
    "gene_end = all_data.iloc[:,4]\n",
    "strand = all_data.iloc[:,5]\n",
    "locations = np.transpose(np.vstack([gene_start,gene_end,strand]))\n",
    "k12_tags = all_data.iloc[:,2]\n",
    "uniprot_rel606 = all_data.iloc[:,6]\n",
    "product = all_data.iloc[:,-1]"
   ]
  },
  {
   "cell_type": "markdown",
   "id": "3d4419a1",
   "metadata": {},
   "source": [
    "### Loading K-12 data"
   ]
  },
  {
   "cell_type": "code",
   "execution_count": 6,
   "id": "dc943b79",
   "metadata": {},
   "outputs": [],
   "source": [
    "tradis = pd.read_excel(metadata_path+'tradis_k12_essentiality.xlsx',skiprows=1)"
   ]
  },
  {
   "cell_type": "code",
   "execution_count": 7,
   "id": "979ea752",
   "metadata": {},
   "outputs": [],
   "source": [
    "keio_ess = pd.read_csv(metadata_path+'genes_essential_keio.csv')\n",
    "keio_all = pd.read_csv(metadata_path+'genes_all_keio.csv')"
   ]
  },
  {
   "cell_type": "markdown",
   "id": "2b041b95",
   "metadata": {},
   "source": [
    "### Identifying overlap of gene names between these datasets and REL606"
   ]
  },
  {
   "cell_type": "code",
   "execution_count": 8,
   "id": "424e50f4",
   "metadata": {},
   "outputs": [
    {
     "name": "stdout",
     "output_type": "stream",
     "text": [
      "Number of overlapping gene names with TraDIS: 3538\n"
     ]
    }
   ],
   "source": [
    "print('Number of overlapping gene names with TraDIS:', len(set(tradis['Gene'])&(set(names))))"
   ]
  },
  {
   "cell_type": "code",
   "execution_count": 9,
   "id": "95afc234",
   "metadata": {},
   "outputs": [
    {
     "name": "stdout",
     "output_type": "stream",
     "text": [
      "Number of overlapping gene names with TraDIS: 3172\n"
     ]
    }
   ],
   "source": [
    "print('Number of overlapping gene names with TraDIS:', len(set(keio_all['gene'])&(set(names))))"
   ]
  },
  {
   "cell_type": "markdown",
   "id": "bab56e79",
   "metadata": {},
   "source": [
    "For every gene in my dataset that doesn't share a gene name with TraDIS (or the Keio collection), I will find all synonyms and check if any of the synonyms are present in the TraDIS data"
   ]
  },
  {
   "cell_type": "code",
   "execution_count": 10,
   "id": "afdd422a",
   "metadata": {},
   "outputs": [],
   "source": [
    "synonym_dict_tradis = {}\n",
    "for gene in set(names)-set(tradis['Gene']):\n",
    "    if 'FJKNNBLA' not in gene:   #if there is no known gene, Prokka will assign the locus name \n",
    "        #(which starts with eight random letters) as gene name\n",
    "        #check if gene is present in the eco_syn database\n",
    "        if gene in eco_syn.values:\n",
    "#             count += 1\n",
    "            #identify relevant row in the dataframe\n",
    "            row_num = np.where(eco_syn.eq(gene))[0][0]\n",
    "            col_num = np.where(eco_syn.eq(gene))[1][0]\n",
    "            #data to extract:\n",
    "            extract_cols = list(set([2,8,9,10,11]) - set([col_num])) #extract all the other names for gene\n",
    "            dat = set(eco_syn.iloc[row_num, extract_cols])\n",
    "            dat = list({x for x in dat if x==x}) #remove nans\n",
    "            if \n",
    "            synonym_dict_tradis[gene]=dat"
   ]
  },
  {
   "cell_type": "code",
   "execution_count": null,
   "id": "edbbf763",
   "metadata": {},
   "outputs": [],
   "source": []
  },
  {
   "cell_type": "code",
   "execution_count": 11,
   "id": "5462b717",
   "metadata": {},
   "outputs": [],
   "source": [
    "synonym_dict_keio = {}\n",
    "for gene in set(names)-set(keio_all['gene']):\n",
    "    if 'FJKNNBLA' not in gene:   #if there is no known gene, Prokka will assign the locus name \n",
    "        #(which starts with eight random letters) as gene name\n",
    "        #check if gene is present in the eco_syn database\n",
    "        if gene in eco_syn.values:\n",
    "            #identify relevant row in the dataframe\n",
    "            row_num = np.where(eco_syn.eq(gene))[0][0]\n",
    "            col_num = np.where(eco_syn.eq(gene))[1][0]\n",
    "            #data to extract:\n",
    "            extract_cols = list(set([2,8,9,10,11]) - set([col_num])) #extract all the other names for gene\n",
    "            dat = set(eco_syn.iloc[row_num, extract_cols])\n",
    "            dat = list({x for x in dat if x==x}) #remove nans\n",
    "            synonym_dict_keio[gene]=dat"
   ]
  },
  {
   "cell_type": "markdown",
   "id": "9a5bfb5a",
   "metadata": {},
   "source": [
    "### Loading the tnseq features file\n",
    "\n",
    "Not all genes have reads mapping to the interior of the gene, so we are only interested in labels for the the genes that do have reads mapped."
   ]
  },
  {
   "cell_type": "code",
   "execution_count": 12,
   "id": "c950c2e3",
   "metadata": {},
   "outputs": [],
   "source": [
    "tnseq_feats = pd.read_csv('tnseq_features_REL606.csv', index_col=0)\n",
    "genes_int = tnseq_feats['Gene']"
   ]
  },
  {
   "cell_type": "markdown",
   "id": "0828420f",
   "metadata": {},
   "source": [
    "### Examining the distribution of names counts reveals that over 80 genes names appear multiple times in the genome.\n",
    "\n",
    "This can happen for two reasons:\n",
    "- these genes are actually duplicated in E. coli B REL606\n",
    "- the annotation tool calls proteins that are similar enough the same gene name\n",
    "\n",
    "I think this observation is likely due to a combination of both factors. As a first pass, I will exclude these genes from the main project of predicting gene essentiality using machine learning classification algorithms. "
   ]
  },
  {
   "cell_type": "code",
   "execution_count": 13,
   "id": "80ade70d",
   "metadata": {},
   "outputs": [],
   "source": [
    "unique, counts = np.unique(names, return_counts=True)"
   ]
  },
  {
   "cell_type": "code",
   "execution_count": 19,
   "id": "cb7edfb0",
   "metadata": {},
   "outputs": [
    {
     "data": {
      "image/png": "[encoded data removed]",
      "text/plain": [
       "<Figure size 432x288 with 1 Axes>"
      ]
     },
     "metadata": {
      "needs_background": "light"
     },
     "output_type": "display_data"
    }
   ],
   "source": [
    "sns.countplot(x=counts)\n",
    "plt.yscale('symlog')"
   ]
  },
  {
   "cell_type": "code",
   "execution_count": 20,
   "id": "3a67a4af",
   "metadata": {},
   "outputs": [],
   "source": [
    "## creating an array which indicates if the corresponding gene in our dataset is duplicated or not.\n",
    "multiple = np.zeros_like(names)\n",
    "for gene in range(len(names)):\n",
    "    if np.size(np.where(names==names[gene])[0])>1:\n",
    "        multiple[gene] = 1"
   ]
  },
  {
   "cell_type": "markdown",
   "id": "6ff45031",
   "metadata": {},
   "source": [
    "### Compiling the essentiality labels (after excluding the duplicated genes)"
   ]
  },
  {
   "cell_type": "code",
   "execution_count": 21,
   "id": "17b9f1e1",
   "metadata": {},
   "outputs": [],
   "source": [
    "tradis_dict = {0: 'Essential', 1: 'Nonessential', 2: 'Unclear'}"
   ]
  },
  {
   "cell_type": "code",
   "execution_count": 22,
   "id": "ee35c128",
   "metadata": {},
   "outputs": [],
   "source": [
    "genes_included = np.sort(list(set(genes_int)-set(np.where(multiple)[0])))"
   ]
  },
  {
   "cell_type": "code",
   "execution_count": 25,
   "id": "bb61c6da",
   "metadata": {},
   "outputs": [
    {
     "name": "stdout",
     "output_type": "stream",
     "text": [
      "Fraction of genes retained after removing genes with potential duplicates\n",
      " 0.9581777445855115\n"
     ]
    }
   ],
   "source": [
    "print('Fraction of genes retained after removing genes with potential duplicates\\n',len(genes_included)/len(names))"
   ]
  },
  {
   "cell_type": "markdown",
   "id": "ca559a6e",
   "metadata": {},
   "source": [
    "Counting number of genes which are present in TraDIS/Keio datasets, or synonym of the gene is present in TraDIS/Keio datasets"
   ]
  },
  {
   "cell_type": "code",
   "execution_count": 68,
   "id": "419c74c6",
   "metadata": {},
   "outputs": [
    {
     "name": "stdout",
     "output_type": "stream",
     "text": [
      "araA\n",
      "lpdA\n",
      "rpnC\n",
      "thpR\n",
      "mtnN\n",
      "trmO\n",
      "pdeL\n",
      "yahH\n",
      "iprA\n",
      "dgcC\n",
      "ppnP\n",
      "decR\n",
      "atl\n",
      "pdeB\n",
      "cnoX\n",
      "selU\n",
      "arcC\n",
      "fimZ\n",
      "hcxA\n",
      "dpiB\n",
      "dpiA\n",
      "crcB\n",
      "nagD\n",
      "phrB\n",
      "pxpB\n",
      "pxpC\n",
      "pxpA\n",
      "ybgU\n",
      "cpoB\n",
      "cecR\n",
      "hcxB\n",
      "opgE\n",
      "ybiS\n",
      "dgcI\n",
      "lysO\n",
      "elyC\n",
      "cmoM\n",
      "ycbB\n",
      "gloC\n",
      "appC\n",
      "appB\n",
      "appX\n",
      "dgcT\n",
      "mdoC\n",
      "mdoG\n",
      "mdoH\n",
      "trhO\n",
      "mltG\n",
      "comR\n",
      "ycfS\n",
      "pdeG\n",
      "trpGD\n",
      "ymiC\n",
      "lapA\n",
      "lapB\n",
      "pdeR\n",
      "dgcM\n",
      "zntB\n",
      "ydbK\n",
      "mdoD\n",
      "sutR\n",
      "rlhA\n",
      "ortT\n",
      "digH\n",
      "mgtS\n",
      "fumD\n",
      "ynhG\n",
      "selO\n",
      "hxpB\n",
      "tcyP\n",
      "cdgI\n",
      "dgcJ\n",
      "nimR\n",
      "nimT\n",
      "dgcP\n",
      "pdeD\n",
      "hprS\n",
      "hprR\n",
      "msrP\n",
      "msrQ\n",
      "erfK\n",
      "galF\n",
      "gmm\n",
      "fcl\n",
      "dgcE\n",
      "pphC\n",
      "trhP\n",
      "btsR\n",
      "btsS\n",
      "pdeN\n",
      "radD\n",
      "hxpA\n",
      "rpnB\n",
      "yfcN\n",
      "pdeA\n",
      "perM\n",
      "pdeF\n",
      "yfiC\n",
      "tapT\n",
      "patZ\n",
      "dgcN\n",
      "glaH\n",
      "lhgD\n",
      "glaR\n",
      "kbp\n",
      "gutM\n",
      "gutQ\n",
      "surE\n",
      "ppnN\n",
      "ghxQ\n",
      "ygfX\n",
      "ygfA\n",
      "fumE\n",
      "yqgD\n",
      "sprT\n",
      "hemW\n",
      "trmB\n",
      "yqiD\n",
      "ubiK\n",
      "uppP\n",
      "dlsT\n",
      "ubiT\n",
      "ubiU\n",
      "ubiV\n",
      "rapZ\n",
      "ptsO\n",
      "zapE\n",
      "envR\n",
      "pckA\n",
      "rpnA\n",
      "yrhD\n",
      "panZ\n",
      "pdeH\n",
      "pdeK\n",
      "lyx\n",
      "gpmI\n",
      "yibD\n",
      "rfaF\n",
      "rfaC\n",
      "rfaL\n",
      "rfaJ\n",
      "rfaY\n",
      "rfaI\n",
      "rfaP\n",
      "rfaG\n",
      "rfaQ\n",
      "coaBC\n",
      "adeQ\n",
      "adeP\n",
      "gppA\n",
      "bioP\n",
      "xynR\n",
      "engB\n",
      "bipA\n",
      "rhaA\n",
      "rhaB\n",
      "ptsA\n",
      "htrC\n",
      "ghxP\n",
      "rpiR\n",
      "ghoS\n",
      "ghoT\n",
      "gdx\n",
      "yjiE\n",
      "ytiA\n",
      "btsT\n",
      "farR\n",
      "lgoT\n",
      "lgoD\n",
      "mdoB\n",
      "ettA\n",
      "gpmB\n",
      "lasT\n",
      "Gene names present in TraDIS data: 3459\n",
      "Synonym of gene names present in TraDIS data: 173\n",
      "Not present in TraDIS data: 217\n"
     ]
    }
   ],
   "source": [
    "count1=0\n",
    "count2=0\n",
    "count3=0\n",
    "for gene in genes_included:\n",
    "    if names[gene] in list(tradis['Gene']):\n",
    "        count1+=1\n",
    "    elif names[gene] in synonym_dict_tradis.keys():\n",
    "        count2+=1\n",
    "        print(names[gene])\n",
    "    else:\n",
    "        count3+=1\n",
    "print('Gene names present in TraDIS data:', count1)\n",
    "print('Synonym of gene names present in TraDIS data:', count2)\n",
    "print('Not present in TraDIS data:', count3)"
   ]
  },
  {
   "cell_type": "code",
   "execution_count": 65,
   "id": "5554dc84",
   "metadata": {},
   "outputs": [
    {
     "name": "stdout",
     "output_type": "stream",
     "text": [
      "Gene names present in Keio data: 3103\n",
      "Synonym of gene names present in Keio data: 526\n",
      "Not present in Keio data: 220\n"
     ]
    }
   ],
   "source": [
    "count1=0\n",
    "count2=0\n",
    "count3=0\n",
    "for gene in genes_included:\n",
    "    if names[gene] in list(keio_all['gene']):\n",
    "        count1+=1\n",
    "    elif names[gene] in synonym_dict_keio.keys():\n",
    "        count2+=1\n",
    "    else:\n",
    "        count3+=1\n",
    "print('Gene names present in Keio data:', count1)\n",
    "print('Synonym of gene names present in Keio data:', count2)\n",
    "print('Not present in Keio data:', count3)"
   ]
  },
  {
   "cell_type": "markdown",
   "id": "67dd6e8b",
   "metadata": {},
   "source": [
    "Overall, we end up with ~3600 genes which are shared (with high confidence) between the TraDIS/Keio collection datasets, and our TnSeq data."
   ]
  },
  {
   "cell_type": "code",
   "execution_count": 257,
   "id": "06649942",
   "metadata": {
    "scrolled": true
   },
   "outputs": [
    {
     "name": "stdout",
     "output_type": "stream",
     "text": [
      "cra True\n",
      "yadI True\n",
      "flhA True\n",
      "motB True\n",
      "rob True\n",
      "betT True\n",
      "yahF True\n",
      "yahG True\n",
      "codB True\n",
      "mhpD True\n",
      "rhsD True\n",
      "quuD True\n",
      "essD True\n",
      "rhsA True\n",
      "hokE True\n",
      "glpG True\n",
      "nagA True\n",
      "ybiI True\n",
      "ompX True\n",
      "ybiI True\n",
      "dam True\n",
      "ogrK True\n",
      "ybjS True\n",
      "kdsB False\n",
      "rutF True\n",
      "rutB True\n",
      "acpP False\n",
      "ldrB True\n",
      "ldrB True\n",
      "ldrB True\n",
      "puuC True\n",
      "ugpC True\n",
      "rrrQ True\n",
      "ydfK True\n",
      "gapA False\n",
      "rhsD True\n",
      "fdnG True\n",
      "fdnG True\n",
      "fimD True\n",
      "fimD True\n",
      "ydfK True\n",
      "ompX True\n",
      "rrrQ True\n",
      "essD True\n",
      "gadW True\n",
      "blc True\n",
      "quuD True\n",
      "ynfM True\n",
      "ydhB True\n",
      "ydiF True\n",
      "gapA False\n",
      "fadD True\n",
      "flhA True\n",
      "motB True\n",
      "arnB True\n",
      "wzxC True\n",
      "wzxC True\n",
      "ogrK True\n",
      "sgcC True\n",
      "yehI True\n",
      "yehI True\n",
      "mdtP True\n",
      "rhmA True\n",
      "rhmT True\n",
      "arnB True\n",
      "arnC True\n",
      "hyfD True\n",
      "hyfD True\n",
      "ynfM True\n",
      "hokE True\n",
      "cra True\n",
      "rbsB True\n",
      "rbsC True\n",
      "rbsA True\n",
      "kduD True\n",
      "yqeA True\n",
      "kdsD True\n",
      "kdsB False\n",
      "malK True\n",
      "gspK True\n",
      "gspG True\n",
      "gspF True\n",
      "gspE True\n",
      "gspD True\n",
      "fadD True\n",
      "ybjS True\n",
      "acpP False\n",
      "kbl True\n",
      "lptG False\n",
      "ytfJ True\n",
      "ysgA True\n",
      "exuT True\n",
      "agaC True\n",
      "agaD True\n",
      "yadI True\n",
      "nagA True\n",
      "agaC True\n",
      "agaD True\n",
      "kdsD True\n",
      "gspD True\n",
      "gspE True\n",
      "gspF True\n",
      "gspG True\n",
      "gspK True\n",
      "dam True\n",
      "glpG True\n",
      "ugpC True\n",
      "yibA True\n",
      "gadW True\n",
      "ldrD True\n",
      "ldrD True\n",
      "ldrD True\n",
      "yicJ True\n",
      "rhsA True\n",
      "yibA True\n",
      "kbl True\n",
      "arnC True\n",
      "yicJ True\n",
      "cytR True\n",
      "exuT True\n",
      "ilvB True\n",
      "dgoA True\n",
      "dgoK True\n",
      "rbsA True\n",
      "rbsC True\n",
      "rbsB True\n",
      "ilvB True\n",
      "ydhB True\n",
      "codB True\n",
      "yqeA True\n",
      "yahG True\n",
      "yahF True\n",
      "rutB True\n",
      "ysgA True\n",
      "dgoA True\n",
      "dgoK True\n",
      "fdoG True\n",
      "fdoG True\n",
      "cytR True\n",
      "malK True\n",
      "fdhF True\n",
      "fdhF True\n",
      "mdtP True\n",
      "blc True\n",
      "exuT True\n",
      "ydiF True\n",
      "kduD True\n",
      "ytfJ True\n",
      "lptG False\n",
      "betT True\n",
      "sgcC True\n",
      "fimD True\n",
      "rutF True\n",
      "rhmT True\n",
      "rhmA True\n",
      "mhpD True\n",
      "puuC True\n",
      "rob True\n"
     ]
    }
   ],
   "source": [
    "labels_tradis = []\n",
    "indices_tradis = []\n",
    "\n",
    "for gene in genes_included:\n",
    "    label_dict = {}\n",
    "    ### step 1: essentiality as predicted in the TraDIS dataset\n",
    "    if names[gene] in list(tradis['Gene']):\n",
    "        indices_tradis.append(gene)\n",
    "        #identifying the row in the tradis data corresponding to this gene, extracting only the last three columns\n",
    "        #which contain information about gene essentiality\n",
    "        key = np.where(list(tradis.iloc[np.where(tradis['Gene']==names[gene])[0][0], -3:]))[0][0]\n",
    "        #the idea behind np.where is that one of the columns is necessarily true, and the above line will return \n",
    "        #which of the columns is true. This is then mapped to essentiality status\n",
    "        label_dict['TraDIS'] = tradis_dict[key]\n",
    "        labels.append(label_dict)\n",
    "    \n",
    "    elif names[gene] in synonym_dict_tradis.keys():\n",
    "        "
   ]
  },
  {
   "cell_type": "markdown",
   "id": "850328ad",
   "metadata": {},
   "source": [
    "SOmething weird is happening. There are ~80 genes names which show up more "
   ]
  },
  {
   "cell_type": "code",
   "execution_count": 17,
   "id": "9d140f65",
   "metadata": {},
   "outputs": [
    {
     "data": {
      "text/html": [
       "<div>\n",
       "<style scoped>\n",
       "    .dataframe tbody tr th:only-of-type {\n",
       "        vertical-align: middle;\n",
       "    }\n",
       "\n",
       "    .dataframe tbody tr th {\n",
       "        vertical-align: top;\n",
       "    }\n",
       "\n",
       "    .dataframe thead th {\n",
       "        text-align: right;\n",
       "    }\n",
       "</style>\n",
       "<table border=\"1\" class=\"dataframe\">\n",
       "  <thead>\n",
       "    <tr style=\"text-align: right;\">\n",
       "      <th></th>\n",
       "      <th>Gene</th>\n",
       "      <th>Insertion Index Score</th>\n",
       "      <th>Log Likelihood Ratio</th>\n",
       "      <th>Essential</th>\n",
       "      <th>Non-essential</th>\n",
       "      <th>Unclear</th>\n",
       "    </tr>\n",
       "  </thead>\n",
       "  <tbody>\n",
       "    <tr>\n",
       "      <th>0</th>\n",
       "      <td>thrL</td>\n",
       "      <td>0.393939</td>\n",
       "      <td>31.431059</td>\n",
       "      <td>False</td>\n",
       "      <td>True</td>\n",
       "      <td>False</td>\n",
       "    </tr>\n",
       "    <tr>\n",
       "      <th>1</th>\n",
       "      <td>thrA</td>\n",
       "      <td>0.219245</td>\n",
       "      <td>17.200782</td>\n",
       "      <td>False</td>\n",
       "      <td>True</td>\n",
       "      <td>False</td>\n",
       "    </tr>\n",
       "    <tr>\n",
       "      <th>2</th>\n",
       "      <td>thrB</td>\n",
       "      <td>0.265809</td>\n",
       "      <td>21.234549</td>\n",
       "      <td>False</td>\n",
       "      <td>True</td>\n",
       "      <td>False</td>\n",
       "    </tr>\n",
       "    <tr>\n",
       "      <th>3</th>\n",
       "      <td>thrC</td>\n",
       "      <td>0.205905</td>\n",
       "      <td>15.994924</td>\n",
       "      <td>False</td>\n",
       "      <td>True</td>\n",
       "      <td>False</td>\n",
       "    </tr>\n",
       "    <tr>\n",
       "      <th>4</th>\n",
       "      <td>yaaX</td>\n",
       "      <td>0.225589</td>\n",
       "      <td>17.765507</td>\n",
       "      <td>False</td>\n",
       "      <td>True</td>\n",
       "      <td>False</td>\n",
       "    </tr>\n",
       "    <tr>\n",
       "      <th>...</th>\n",
       "      <td>...</td>\n",
       "      <td>...</td>\n",
       "      <td>...</td>\n",
       "      <td>...</td>\n",
       "      <td>...</td>\n",
       "      <td>...</td>\n",
       "    </tr>\n",
       "    <tr>\n",
       "      <th>4308</th>\n",
       "      <td>creC</td>\n",
       "      <td>0.220351</td>\n",
       "      <td>17.299624</td>\n",
       "      <td>False</td>\n",
       "      <td>True</td>\n",
       "      <td>False</td>\n",
       "    </tr>\n",
       "    <tr>\n",
       "      <th>4309</th>\n",
       "      <td>creD</td>\n",
       "      <td>0.221729</td>\n",
       "      <td>17.422589</td>\n",
       "      <td>False</td>\n",
       "      <td>True</td>\n",
       "      <td>False</td>\n",
       "    </tr>\n",
       "    <tr>\n",
       "      <th>4310</th>\n",
       "      <td>arcA</td>\n",
       "      <td>0.097629</td>\n",
       "      <td>4.641238</td>\n",
       "      <td>False</td>\n",
       "      <td>True</td>\n",
       "      <td>False</td>\n",
       "    </tr>\n",
       "    <tr>\n",
       "      <th>4311</th>\n",
       "      <td>yjjY</td>\n",
       "      <td>0.219858</td>\n",
       "      <td>17.255613</td>\n",
       "      <td>False</td>\n",
       "      <td>True</td>\n",
       "      <td>False</td>\n",
       "    </tr>\n",
       "    <tr>\n",
       "      <th>4312</th>\n",
       "      <td>yjtD</td>\n",
       "      <td>0.203785</td>\n",
       "      <td>15.800757</td>\n",
       "      <td>False</td>\n",
       "      <td>True</td>\n",
       "      <td>False</td>\n",
       "    </tr>\n",
       "  </tbody>\n",
       "</table>\n",
       "<p>4313 rows × 6 columns</p>\n",
       "</div>"
      ],
      "text/plain": [
       "      Gene  Insertion Index Score  Log Likelihood Ratio  Essential  \\\n",
       "0     thrL               0.393939             31.431059      False   \n",
       "1     thrA               0.219245             17.200782      False   \n",
       "2     thrB               0.265809             21.234549      False   \n",
       "3     thrC               0.205905             15.994924      False   \n",
       "4     yaaX               0.225589             17.765507      False   \n",
       "...    ...                    ...                   ...        ...   \n",
       "4308  creC               0.220351             17.299624      False   \n",
       "4309  creD               0.221729             17.422589      False   \n",
       "4310  arcA               0.097629              4.641238      False   \n",
       "4311  yjjY               0.219858             17.255613      False   \n",
       "4312  yjtD               0.203785             15.800757      False   \n",
       "\n",
       "      Non-essential  Unclear  \n",
       "0              True    False  \n",
       "1              True    False  \n",
       "2              True    False  \n",
       "3              True    False  \n",
       "4              True    False  \n",
       "...             ...      ...  \n",
       "4308           True    False  \n",
       "4309           True    False  \n",
       "4310           True    False  \n",
       "4311           True    False  \n",
       "4312           True    False  \n",
       "\n",
       "[4313 rows x 6 columns]"
      ]
     },
     "execution_count": 17,
     "metadata": {},
     "output_type": "execute_result"
    }
   ],
   "source": [
    "tradis"
   ]
  },
  {
   "cell_type": "code",
   "execution_count": 31,
   "id": "e452389d",
   "metadata": {
    "scrolled": true
   },
   "outputs": [
    {
     "data": {
      "text/plain": [
       "3"
      ]
     },
     "execution_count": 31,
     "metadata": {},
     "output_type": "execute_result"
    }
   ],
   "source": [
    "np.size(np.where(names=='exuT')[0])"
   ]
  },
  {
   "cell_type": "code",
   "execution_count": 104,
   "id": "5a946310",
   "metadata": {},
   "outputs": [
    {
     "data": {
      "text/html": [
       "<div>\n",
       "<style scoped>\n",
       "    .dataframe tbody tr th:only-of-type {\n",
       "        vertical-align: middle;\n",
       "    }\n",
       "\n",
       "    .dataframe tbody tr th {\n",
       "        vertical-align: top;\n",
       "    }\n",
       "\n",
       "    .dataframe thead th {\n",
       "        text-align: right;\n",
       "    }\n",
       "</style>\n",
       "<table border=\"1\" class=\"dataframe\">\n",
       "  <thead>\n",
       "    <tr style=\"text-align: right;\">\n",
       "      <th></th>\n",
       "      <th>Gene</th>\n",
       "      <th>Insertion Index Score</th>\n",
       "      <th>Log Likelihood Ratio</th>\n",
       "      <th>Essential</th>\n",
       "      <th>Non-essential</th>\n",
       "      <th>Unclear</th>\n",
       "    </tr>\n",
       "  </thead>\n",
       "  <tbody>\n",
       "    <tr>\n",
       "      <th>0</th>\n",
       "      <td>thrL</td>\n",
       "      <td>0.393939</td>\n",
       "      <td>31.431059</td>\n",
       "      <td>False</td>\n",
       "      <td>True</td>\n",
       "      <td>False</td>\n",
       "    </tr>\n",
       "    <tr>\n",
       "      <th>1</th>\n",
       "      <td>thrA</td>\n",
       "      <td>0.219245</td>\n",
       "      <td>17.200782</td>\n",
       "      <td>False</td>\n",
       "      <td>True</td>\n",
       "      <td>False</td>\n",
       "    </tr>\n",
       "    <tr>\n",
       "      <th>2</th>\n",
       "      <td>thrB</td>\n",
       "      <td>0.265809</td>\n",
       "      <td>21.234549</td>\n",
       "      <td>False</td>\n",
       "      <td>True</td>\n",
       "      <td>False</td>\n",
       "    </tr>\n",
       "    <tr>\n",
       "      <th>3</th>\n",
       "      <td>thrC</td>\n",
       "      <td>0.205905</td>\n",
       "      <td>15.994924</td>\n",
       "      <td>False</td>\n",
       "      <td>True</td>\n",
       "      <td>False</td>\n",
       "    </tr>\n",
       "    <tr>\n",
       "      <th>4</th>\n",
       "      <td>yaaX</td>\n",
       "      <td>0.225589</td>\n",
       "      <td>17.765507</td>\n",
       "      <td>False</td>\n",
       "      <td>True</td>\n",
       "      <td>False</td>\n",
       "    </tr>\n",
       "    <tr>\n",
       "      <th>...</th>\n",
       "      <td>...</td>\n",
       "      <td>...</td>\n",
       "      <td>...</td>\n",
       "      <td>...</td>\n",
       "      <td>...</td>\n",
       "      <td>...</td>\n",
       "    </tr>\n",
       "    <tr>\n",
       "      <th>4308</th>\n",
       "      <td>creC</td>\n",
       "      <td>0.220351</td>\n",
       "      <td>17.299624</td>\n",
       "      <td>False</td>\n",
       "      <td>True</td>\n",
       "      <td>False</td>\n",
       "    </tr>\n",
       "    <tr>\n",
       "      <th>4309</th>\n",
       "      <td>creD</td>\n",
       "      <td>0.221729</td>\n",
       "      <td>17.422589</td>\n",
       "      <td>False</td>\n",
       "      <td>True</td>\n",
       "      <td>False</td>\n",
       "    </tr>\n",
       "    <tr>\n",
       "      <th>4310</th>\n",
       "      <td>arcA</td>\n",
       "      <td>0.097629</td>\n",
       "      <td>4.641238</td>\n",
       "      <td>False</td>\n",
       "      <td>True</td>\n",
       "      <td>False</td>\n",
       "    </tr>\n",
       "    <tr>\n",
       "      <th>4311</th>\n",
       "      <td>yjjY</td>\n",
       "      <td>0.219858</td>\n",
       "      <td>17.255613</td>\n",
       "      <td>False</td>\n",
       "      <td>True</td>\n",
       "      <td>False</td>\n",
       "    </tr>\n",
       "    <tr>\n",
       "      <th>4312</th>\n",
       "      <td>yjtD</td>\n",
       "      <td>0.203785</td>\n",
       "      <td>15.800757</td>\n",
       "      <td>False</td>\n",
       "      <td>True</td>\n",
       "      <td>False</td>\n",
       "    </tr>\n",
       "  </tbody>\n",
       "</table>\n",
       "<p>4313 rows × 6 columns</p>\n",
       "</div>"
      ],
      "text/plain": [
       "      Gene  Insertion Index Score  Log Likelihood Ratio  Essential  \\\n",
       "0     thrL               0.393939             31.431059      False   \n",
       "1     thrA               0.219245             17.200782      False   \n",
       "2     thrB               0.265809             21.234549      False   \n",
       "3     thrC               0.205905             15.994924      False   \n",
       "4     yaaX               0.225589             17.765507      False   \n",
       "...    ...                    ...                   ...        ...   \n",
       "4308  creC               0.220351             17.299624      False   \n",
       "4309  creD               0.221729             17.422589      False   \n",
       "4310  arcA               0.097629              4.641238      False   \n",
       "4311  yjjY               0.219858             17.255613      False   \n",
       "4312  yjtD               0.203785             15.800757      False   \n",
       "\n",
       "      Non-essential  Unclear  \n",
       "0              True    False  \n",
       "1              True    False  \n",
       "2              True    False  \n",
       "3              True    False  \n",
       "4              True    False  \n",
       "...             ...      ...  \n",
       "4308           True    False  \n",
       "4309           True    False  \n",
       "4310           True    False  \n",
       "4311           True    False  \n",
       "4312           True    False  \n",
       "\n",
       "[4313 rows x 6 columns]"
      ]
     },
     "execution_count": 104,
     "metadata": {},
     "output_type": "execute_result"
    }
   ],
   "source": [
    "tradis"
   ]
  },
  {
   "cell_type": "code",
   "execution_count": null,
   "id": "16c6a49b",
   "metadata": {},
   "outputs": [],
   "source": []
  },
  {
   "cell_type": "code",
   "execution_count": null,
   "id": "d4b5d056",
   "metadata": {},
   "outputs": [],
   "source": []
  },
  {
   "cell_type": "code",
   "execution_count": 62,
   "id": "90b44bf9",
   "metadata": {},
   "outputs": [
    {
     "data": {
      "text/html": [
       "<div>\n",
       "<style scoped>\n",
       "    .dataframe tbody tr th:only-of-type {\n",
       "        vertical-align: middle;\n",
       "    }\n",
       "\n",
       "    .dataframe tbody tr th {\n",
       "        vertical-align: top;\n",
       "    }\n",
       "\n",
       "    .dataframe thead th {\n",
       "        text-align: right;\n",
       "    }\n",
       "</style>\n",
       "<table border=\"1\" class=\"dataframe\">\n",
       "  <thead>\n",
       "    <tr style=\"text-align: right;\">\n",
       "      <th></th>\n",
       "      <th>gene</th>\n",
       "    </tr>\n",
       "  </thead>\n",
       "  <tbody>\n",
       "    <tr>\n",
       "      <th>0</th>\n",
       "      <td>thrL</td>\n",
       "    </tr>\n",
       "    <tr>\n",
       "      <th>1</th>\n",
       "      <td>thrA</td>\n",
       "    </tr>\n",
       "    <tr>\n",
       "      <th>2</th>\n",
       "      <td>thrB</td>\n",
       "    </tr>\n",
       "    <tr>\n",
       "      <th>3</th>\n",
       "      <td>thrC</td>\n",
       "    </tr>\n",
       "    <tr>\n",
       "      <th>4</th>\n",
       "      <td>yaaX</td>\n",
       "    </tr>\n",
       "    <tr>\n",
       "      <th>...</th>\n",
       "      <td>...</td>\n",
       "    </tr>\n",
       "    <tr>\n",
       "      <th>4373</th>\n",
       "      <td>creC</td>\n",
       "    </tr>\n",
       "    <tr>\n",
       "      <th>4374</th>\n",
       "      <td>creD</td>\n",
       "    </tr>\n",
       "    <tr>\n",
       "      <th>4375</th>\n",
       "      <td>arcA</td>\n",
       "    </tr>\n",
       "    <tr>\n",
       "      <th>4376</th>\n",
       "      <td>yjjY</td>\n",
       "    </tr>\n",
       "    <tr>\n",
       "      <th>4377</th>\n",
       "      <td>yjtD</td>\n",
       "    </tr>\n",
       "  </tbody>\n",
       "</table>\n",
       "<p>4378 rows × 1 columns</p>\n",
       "</div>"
      ],
      "text/plain": [
       "      gene\n",
       "0     thrL\n",
       "1     thrA\n",
       "2     thrB\n",
       "3     thrC\n",
       "4     yaaX\n",
       "...    ...\n",
       "4373  creC\n",
       "4374  creD\n",
       "4375  arcA\n",
       "4376  yjjY\n",
       "4377  yjtD\n",
       "\n",
       "[4378 rows x 1 columns]"
      ]
     },
     "execution_count": 62,
     "metadata": {},
     "output_type": "execute_result"
    }
   ],
   "source": [
    "keio_all"
   ]
  },
  {
   "cell_type": "code",
   "execution_count": 67,
   "id": "c866d624",
   "metadata": {},
   "outputs": [
    {
     "data": {
      "text/plain": [
       "3"
      ]
     },
     "execution_count": 67,
     "metadata": {},
     "output_type": "execute_result"
    }
   ],
   "source": [
    "np.where(names=='exuT')[0].shape[0]"
   ]
  },
  {
   "cell_type": "code",
   "execution_count": 69,
   "id": "df988de7",
   "metadata": {},
   "outputs": [
    {
     "data": {
      "text/plain": [
       "['bacA']"
      ]
     },
     "execution_count": 69,
     "metadata": {},
     "output_type": "execute_result"
    }
   ],
   "source": [
    "synonym_dict_keio['uppP']"
   ]
  },
  {
   "cell_type": "code",
   "execution_count": 76,
   "id": "2b99bed5",
   "metadata": {},
   "outputs": [],
   "source": [
    "rbtn = pd.read_csv('/Users/anuraglimdi/Downloads/fit_genes.tab',sep='\\t')"
   ]
  },
  {
   "cell_type": "code",
   "execution_count": 108,
   "id": "780a7155",
   "metadata": {},
   "outputs": [],
   "source": [
    "a = set(rbtn['name'])-set(tradis['Gene'])"
   ]
  },
  {
   "cell_type": "code",
   "execution_count": 109,
   "id": "2770b533",
   "metadata": {
    "scrolled": true
   },
   "outputs": [
    {
     "data": {
      "text/plain": [
       "874"
      ]
     },
     "execution_count": 109,
     "metadata": {},
     "output_type": "execute_result"
    }
   ],
   "source": [
    "len(a)"
   ]
  },
  {
   "cell_type": "code",
   "execution_count": 110,
   "id": "b32a630d",
   "metadata": {},
   "outputs": [],
   "source": [
    "b = set(tradis['Gene'])&set(rbtn['name'])"
   ]
  },
  {
   "cell_type": "code",
   "execution_count": 111,
   "id": "24f11a3a",
   "metadata": {},
   "outputs": [
    {
     "data": {
      "text/plain": [
       "3614"
      ]
     },
     "execution_count": 111,
     "metadata": {},
     "output_type": "execute_result"
    }
   ],
   "source": [
    "len(b)"
   ]
  },
  {
   "cell_type": "code",
   "execution_count": 112,
   "id": "122ad57f",
   "metadata": {},
   "outputs": [
    {
     "data": {
      "text/plain": [
       "4610"
      ]
     },
     "execution_count": 112,
     "metadata": {},
     "output_type": "execute_result"
    }
   ],
   "source": [
    "len(rbtn['name'])"
   ]
  },
  {
   "cell_type": "code",
   "execution_count": 113,
   "id": "8327fd4b",
   "metadata": {},
   "outputs": [
    {
     "data": {
      "text/plain": [
       "4488"
      ]
     },
     "execution_count": 113,
     "metadata": {},
     "output_type": "execute_result"
    }
   ],
   "source": [
    "874+3614"
   ]
  },
  {
   "cell_type": "code",
   "execution_count": null,
   "id": "971d1647",
   "metadata": {},
   "outputs": [],
   "source": []
  }
 ],
 "metadata": {
  "kernelspec": {
   "display_name": "Python 3 (ipykernel)",
   "language": "python",
   "name": "python3"
  },
  "language_info": {
   "codemirror_mode": {
    "name": "ipython",
    "version": 3
   },
   "file_extension": ".py",
   "mimetype": "text/x-python",
   "name": "python",
   "nbconvert_exporter": "python",
   "pygments_lexer": "ipython3",
   "version": "3.10.4"
  }
 },
 "nbformat": 4,
 "nbformat_minor": 5
}
