{
 "cells": [
  {
   "cell_type": "markdown",
   "id": "f6f73fce",
   "metadata": {},
   "source": [
    "## Assigning essentiality labels using E. coli K-12 datasets\n",
    "\n",
    "Challenge: I generated transposon sequencing data for E. coli B REL606, which is less commonly used compared to E. coli K-12. Since there isn't a well-annotated ground truth of gene essentiality for the REL606 strain, I will use a dataset from E. coli K-12 as a benchmark. \n",
    "\n",
    "1. The E. coli K-12 Keio collection: in this experiment, the authors attempted to make gene deletions for every gene in the K-12 genome. They were unable to make deletions in ~300 genes, which are considered essential. \n",
    "2. The E. coli K-12 TraDIS collection: a transposon sequencing experiment where the authors did a manual examination of several edge cases and annotated essentiality based on both sequencing data and prior results in the literature.\n",
    "\n",
    "Challenge: there are several unannotated genes in the E. coli genome, and the two strains can differ in their gene content. To get around these issues, I will identify all the genes that are shared between the REL606 and K-12 genome and extract essentiality labels only for those."
   ]
  },
  {
   "cell_type": "code",
   "execution_count": null,
   "id": "86f30a3f",
   "metadata": {},
   "outputs": [],
   "source": [
    "import numpy as np\n",
    "import pandas as pd\n",
    "from scipy import stats\n",
    "import matplotlib.pyplot as plt\n",
    "import seaborn as sns\n",
    "import os\n",
    "from pathlib import Path"
   ]
  },
  {
   "cell_type": "code",
   "execution_count": null,
   "id": "861a9032",
   "metadata": {},
   "outputs": [],
   "source": [
    "#current working directory\n",
    "repo = os.getcwd()\n",
    "print(repo)"
   ]
  },
  {
   "cell_type": "code",
   "execution_count": null,
   "id": "e831b7ae",
   "metadata": {},
   "outputs": [],
   "source": [
    "metadata_path = repo +'/Metadata/'"
   ]
  },
  {
   "cell_type": "markdown",
   "id": "bb5266ca",
   "metadata": {},
   "source": [
    "### Loading metadata\n",
    "\n",
    "Another confounding factor is that there are multiple names for the same gene in E. coli K-12, and the gene names used by the authors in Goodall et al and Baba et al may not be consistent with what names were assigned when annotating the E. coli REL606 reference genome using prokka.\n",
    "\n",
    "To get around this, I will use info from the ecocyc database which contains up to four synonyms for every gene."
   ]
  },
  {
   "cell_type": "code",
   "execution_count": null,
   "id": "37e55515",
   "metadata": {},
   "outputs": [],
   "source": [
    "eco_syn = pd.read_csv(metadata_path+'ecoli_genes.col',on_bad_lines='skip',skiprows=28,sep='\\t')"
   ]
  },
  {
   "cell_type": "code",
   "execution_count": null,
   "id": "2a700db1",
   "metadata": {},
   "outputs": [],
   "source": [
    "#opening the pandas file with all the metadata\n",
    "all_data = pd.read_csv(metadata_path+\"all_metadata_REL606.txt\", sep=\"\\t\")\n",
    "names = all_data.iloc[:,0]\n",
    "gene_start = all_data.iloc[:,3]\n",
    "gene_end = all_data.iloc[:,4]\n",
    "strand = all_data.iloc[:,5]\n",
    "locations = np.transpose(np.vstack([gene_start,gene_end,strand]))\n",
    "k12_tags = all_data.iloc[:,2]\n",
    "uniprot_rel606 = all_data.iloc[:,6]\n",
    "product = all_data.iloc[:,-1]"
   ]
  },
  {
   "cell_type": "markdown",
   "id": "3d4419a1",
   "metadata": {},
   "source": [
    "### Loading K-12 data"
   ]
  },
  {
   "cell_type": "code",
   "execution_count": null,
   "id": "dc943b79",
   "metadata": {},
   "outputs": [],
   "source": [
    "tradis = pd.read_excel(metadata_path+'tradis_k12_essentiality.xlsx',skiprows=1)"
   ]
  },
  {
   "cell_type": "code",
   "execution_count": null,
   "id": "979ea752",
   "metadata": {},
   "outputs": [],
   "source": [
    "keio_ess = pd.read_csv(metadata_path+'genes_essential_keio.csv')\n",
    "keio_all = pd.read_csv(metadata_path+'genes_all_keio.csv')"
   ]
  },
  {
   "cell_type": "markdown",
   "id": "2b041b95",
   "metadata": {},
   "source": [
    "### Identifying overlap of gene names between these datasets and REL606"
   ]
  },
  {
   "cell_type": "code",
   "execution_count": null,
   "id": "424e50f4",
   "metadata": {},
   "outputs": [],
   "source": [
    "print('Number of overlapping gene names with TraDIS:', len(set(tradis['Gene'])&(set(names))))"
   ]
  },
  {
   "cell_type": "code",
   "execution_count": null,
   "id": "95afc234",
   "metadata": {},
   "outputs": [],
   "source": [
    "print('Number of overlapping gene names with TraDIS:', len(set(keio_all['gene'])&(set(names))))"
   ]
  },
  {
   "cell_type": "code",
   "execution_count": null,
   "id": "fa6155ea",
   "metadata": {},
   "outputs": [],
   "source": [
    "a = []\n",
    "if a:\n",
    "    print(k)"
   ]
  },
  {
   "cell_type": "markdown",
   "id": "bab56e79",
   "metadata": {},
   "source": [
    "For every gene in my dataset that doesn't share a gene name with TraDIS (or the Keio collection), I will find all synonyms and check if any of the synonyms are present in the TraDIS data"
   ]
  },
  {
   "cell_type": "code",
   "execution_count": null,
   "id": "afdd422a",
   "metadata": {},
   "outputs": [],
   "source": [
    "synonym_dict_tradis = {}\n",
    "for gene in set(names)-set(tradis['Gene']):\n",
    "    if 'FJKNNBLA' not in gene:   #if there is no known gene, Prokka will assign the locus name \n",
    "        #(which starts with eight random letters) as gene name\n",
    "        #check if gene is present in the eco_syn database\n",
    "        if gene in eco_syn.values:\n",
    "#             count += 1\n",
    "            #identify relevant row in the dataframe\n",
    "            row_num = np.where(eco_syn.eq(gene))[0][0]\n",
    "            col_num = np.where(eco_syn.eq(gene))[1][0]\n",
    "            #data to extract:\n",
    "            extract_cols = list(set([2,8,9,10,11]) - set([col_num])) #extract all the other names for gene\n",
    "            dat = set(eco_syn.iloc[row_num, extract_cols])\n",
    "            dat = list({x for x in dat if x==x}) #remove nans\n",
    "            #check if any of the synonyms are in the tradis dataset\n",
    "            overlap = list(set(dat) & set(tradis['Gene']))\n",
    "            if overlap:\n",
    "                synonym_dict_tradis[gene]=overlap"
   ]
  },
  {
   "cell_type": "code",
   "execution_count": null,
   "id": "5462b717",
   "metadata": {},
   "outputs": [],
   "source": [
    "synonym_dict_keio = {}\n",
    "for gene in set(names)-set(keio_all['gene']):\n",
    "    if 'FJKNNBLA' not in gene:   #if there is no known gene, Prokka will assign the locus name \n",
    "        #(which starts with eight random letters) as gene name\n",
    "        #check if gene is present in the eco_syn database\n",
    "        if gene in eco_syn.values:\n",
    "            #identify relevant row in the dataframe\n",
    "            row_num = np.where(eco_syn.eq(gene))[0][0]\n",
    "            col_num = np.where(eco_syn.eq(gene))[1][0]\n",
    "            #data to extract:\n",
    "            extract_cols = list(set([2,8,9,10,11]) - set([col_num])) #extract all the other names for gene\n",
    "            dat = set(eco_syn.iloc[row_num, extract_cols])\n",
    "            dat = list({x for x in dat if x==x}) #remove nans\n",
    "            #check if any of the synonyms are in the tradis dataset\n",
    "            overlap = list(set(dat) & set(keio_all['gene']))\n",
    "            if overlap:\n",
    "                synonym_dict_keio[gene]=overlap"
   ]
  },
  {
   "cell_type": "markdown",
   "id": "9a5bfb5a",
   "metadata": {},
   "source": [
    "### Loading the tnseq features file\n",
    "\n",
    "Not all genes have reads mapping to the interior of the gene, so we are only interested in labels for the the genes that do have reads mapped."
   ]
  },
  {
   "cell_type": "code",
   "execution_count": null,
   "id": "c950c2e3",
   "metadata": {},
   "outputs": [],
   "source": [
    "tnseq_feats = pd.read_csv('tnseq_features_REL606.csv', index_col=0)\n",
    "genes_int = tnseq_feats['Gene']"
   ]
  },
  {
   "cell_type": "markdown",
   "id": "0828420f",
   "metadata": {},
   "source": [
    "### Examining the distribution of names counts reveals that over 80 genes names appear multiple times in the genome.\n",
    "\n",
    "This can happen for two reasons:\n",
    "- these genes are actually duplicated in E. coli B REL606\n",
    "- the annotation tool calls proteins that are similar enough the same gene name\n",
    "\n",
    "I think this observation is likely due to a combination of both factors. Because it's quite possible that these genes are paralogs, I will exclude these genes from the main project of predicting gene essentiality using machine learning classification algorithms. The rationale is that even if the genes are essential, by having an extra copy present in the genome, it won't show up as essential in the TnSeq data."
   ]
  },
  {
   "cell_type": "code",
   "execution_count": null,
   "id": "80ade70d",
   "metadata": {},
   "outputs": [],
   "source": [
    "unique, counts = np.unique(names, return_counts=True)"
   ]
  },
  {
   "cell_type": "code",
   "execution_count": null,
   "id": "cb7edfb0",
   "metadata": {},
   "outputs": [],
   "source": [
    "sns.countplot(x=counts)\n",
    "plt.yscale('symlog')"
   ]
  },
  {
   "cell_type": "code",
   "execution_count": null,
   "id": "3a67a4af",
   "metadata": {},
   "outputs": [],
   "source": [
    "## creating an array which indicates if the corresponding gene in our dataset is duplicated or not.\n",
    "multiple = np.zeros_like(names)\n",
    "for gene in range(len(names)):\n",
    "    if np.size(np.where(names==names[gene])[0])>1:\n",
    "        multiple[gene] = 1"
   ]
  },
  {
   "cell_type": "markdown",
   "id": "6ff45031",
   "metadata": {},
   "source": [
    "### Compiling the essentiality labels (after excluding the duplicated genes)"
   ]
  },
  {
   "cell_type": "code",
   "execution_count": null,
   "id": "17b9f1e1",
   "metadata": {},
   "outputs": [],
   "source": [
    "tradis_dict = {0: 'Essential', 1: 'Nonessential', 2: 'Unclear'}"
   ]
  },
  {
   "cell_type": "code",
   "execution_count": null,
   "id": "ee35c128",
   "metadata": {},
   "outputs": [],
   "source": [
    "genes_included = np.sort(list(set(genes_int)-set(np.where(multiple)[0])))"
   ]
  },
  {
   "cell_type": "code",
   "execution_count": null,
   "id": "bb61c6da",
   "metadata": {},
   "outputs": [],
   "source": [
    "print('Fraction of genes retained after removing genes with potential duplicates\\n',len(genes_included)/len(names))"
   ]
  },
  {
   "cell_type": "markdown",
   "id": "ca559a6e",
   "metadata": {},
   "source": [
    "#### Counting number of genes which are present in TraDIS/Keio datasets, or synonym of the gene is present in TraDIS/Keio datasets"
   ]
  },
  {
   "cell_type": "code",
   "execution_count": null,
   "id": "419c74c6",
   "metadata": {},
   "outputs": [],
   "source": [
    "count1=0\n",
    "count2=0\n",
    "count3=0\n",
    "for gene in genes_included:\n",
    "    if names[gene] in list(tradis['Gene']):\n",
    "        count1+=1\n",
    "    elif names[gene] in synonym_dict_tradis.keys():\n",
    "        count2+=1\n",
    "#         print(names[gene])\n",
    "    else:\n",
    "        count3+=1\n",
    "print('Gene names present in TraDIS data:', count1)\n",
    "print('Synonym of gene names present in TraDIS data:', count2)\n",
    "print('Not present in TraDIS data:', count3)"
   ]
  },
  {
   "cell_type": "code",
   "execution_count": null,
   "id": "5554dc84",
   "metadata": {},
   "outputs": [],
   "source": [
    "count1=0\n",
    "count2=0\n",
    "count3=0\n",
    "for gene in genes_included:\n",
    "    if names[gene] in list(keio_all['gene']):\n",
    "        count1+=1\n",
    "    elif names[gene] in synonym_dict_keio.keys():\n",
    "        count2+=1\n",
    "    else:\n",
    "        count3+=1\n",
    "print('Gene names present in Keio data:', count1)\n",
    "print('Synonym of gene names present in Keio data:', count2)\n",
    "print('Not present in Keio data:', count3)"
   ]
  },
  {
   "cell_type": "markdown",
   "id": "67dd6e8b",
   "metadata": {},
   "source": [
    "Overall, we end up with ~3600 genes which are shared (with high confidence) between the TraDIS/Keio collection datasets, and our TnSeq data.\n",
    "\n",
    "### Now, I'll assign each gene an essentiality label for each gene"
   ]
  },
  {
   "cell_type": "code",
   "execution_count": null,
   "id": "06649942",
   "metadata": {
    "scrolled": true
   },
   "outputs": [],
   "source": [
    "labels_tradis = []\n",
    "indices_tradis = []\n",
    "\n",
    "row_list = []\n",
    "\n",
    "for gene in genes_included:\n",
    "    row_dict = {}\n",
    "    row_dict['Gene'] = gene\n",
    "    \n",
    "    ### step 1: essentiality as predicted in the TraDIS dataset\n",
    "    if names[gene] in list(tradis['Gene']):\n",
    "        indices_tradis.append(gene)\n",
    "        #identifying the row in the tradis data corresponding to this gene, extracting only the last three columns\n",
    "        #which contain information about gene essentiality\n",
    "        key = np.where(list(tradis.iloc[np.where(tradis['Gene']==names[gene])[0][0], -3:]))[0][0]\n",
    "        #the idea behind np.where is that one of the columns is necessarily true, and the above line will return \n",
    "        #which of the columns is true. This is then mapped to essentiality status\n",
    "        row_dict['TraDIS'] = tradis_dict[key]\n",
    "        \n",
    "    elif names[gene] in synonym_dict_tradis.keys():\n",
    "        key = np.where(list(tradis.iloc[np.where(tradis['Gene']==synonym_dict_tradis[names[gene]][0])[0][0], -3:]))[0][0]\n",
    "        row_dict['TraDIS'] = tradis_dict[key]\n",
    "        \n",
    "    else:\n",
    "        row_dict['TraDIS'] = 'NA'\n",
    "    \n",
    "    ### step 2: essentiality as predicted in the Keio dataset\n",
    "    if names[gene] in list(keio_all['gene']):\n",
    "        if names[gene] in list(keio_ess['Gene']):\n",
    "            row_dict['Keio'] = 'Essential'\n",
    "        else:\n",
    "            row_dict['Keio'] = 'Nonessential'\n",
    "    \n",
    "    elif names[gene] in synonym_dict_keio.keys():\n",
    "        search = synonym_dict_keio[names[gene]][0]\n",
    "        if search in list(keio_ess['Gene']):\n",
    "            row_dict['Keio'] = 'Essential'\n",
    "        else:\n",
    "            row_dict['Keio'] = 'Nonessential'\n",
    "    \n",
    "    else:\n",
    "        row_dict['Keio'] = 'NA'\n",
    "        \n",
    "    #finally add this dictionary to the row_list\n",
    "    row_list.append(row_dict)"
   ]
  },
  {
   "cell_type": "code",
   "execution_count": null,
   "id": "73aab9d5",
   "metadata": {},
   "outputs": [],
   "source": [
    "essentiality_labels = pd.DataFrame(row_list)"
   ]
  },
  {
   "cell_type": "code",
   "execution_count": null,
   "id": "ae07efdb",
   "metadata": {},
   "outputs": [],
   "source": [
    "essentiality_labels = essentiality_labels.set_index('Gene', drop=True)"
   ]
  },
  {
   "cell_type": "markdown",
   "id": "5ceda931",
   "metadata": {},
   "source": [
    "### Now for merging both the features and gene essentiality data into the same dataframe"
   ]
  },
  {
   "cell_type": "code",
   "execution_count": null,
   "id": "1ae33419",
   "metadata": {},
   "outputs": [],
   "source": [
    "features = pd.read_csv('tnseq_features_REL606.csv')"
   ]
  },
  {
   "cell_type": "code",
   "execution_count": null,
   "id": "8592a09b",
   "metadata": {},
   "outputs": [],
   "source": [
    "features = features.set_index('Gene', drop=True)"
   ]
  },
  {
   "cell_type": "code",
   "execution_count": null,
   "id": "9f2294e7",
   "metadata": {},
   "outputs": [],
   "source": [
    "merged_data = pd.merge(features, essentiality_labels, left_index=True, right_index=True)"
   ]
  },
  {
   "cell_type": "code",
   "execution_count": null,
   "id": "3b078bf3",
   "metadata": {},
   "outputs": [],
   "source": [
    "merged_data.to_csv('tnseq_features_essentiality.csv')"
   ]
  },
  {
   "cell_type": "markdown",
   "id": "a219ed3d",
   "metadata": {},
   "source": [
    "This is what will go into the machine learning models for"
   ]
  },
  {
   "cell_type": "code",
   "execution_count": 204,
   "id": "c04e3e60",
   "metadata": {},
   "outputs": [
    {
     "data": {
      "text/plain": [
       "333"
      ]
     },
     "execution_count": 204,
     "metadata": {},
     "output_type": "execute_result"
    }
   ],
   "source": [
    "np.sum(merged_data['TraDIS']=='Essential')    #number of genes called essential in the tradis data"
   ]
  },
  {
   "cell_type": "code",
   "execution_count": 205,
   "id": "a92cef71",
   "metadata": {},
   "outputs": [
    {
     "data": {
      "text/plain": [
       "285"
      ]
     },
     "execution_count": 205,
     "metadata": {},
     "output_type": "execute_result"
    }
   ],
   "source": [
    "np.sum(merged_data['Keio']=='Essential')      #number of genes called essential in the keio collection"
   ]
  },
  {
   "cell_type": "code",
   "execution_count": null,
   "id": "0356939c",
   "metadata": {},
   "outputs": [],
   "source": []
  }
 ],
 "metadata": {
  "kernelspec": {
   "display_name": "Python 3 (ipykernel)",
   "language": "python",
   "name": "python3"
  },
  "language_info": {
   "codemirror_mode": {
    "name": "ipython",
    "version": 3
   },
   "file_extension": ".py",
   "mimetype": "text/x-python",
   "name": "python",
   "nbconvert_exporter": "python",
   "pygments_lexer": "ipython3",
   "version": "3.10.4"
  }
 },
 "nbformat": 4,
 "nbformat_minor": 5
}
